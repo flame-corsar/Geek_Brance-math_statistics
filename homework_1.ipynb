{
 "cells": [
  {
   "cell_type": "markdown",
   "id": "68440050",
   "metadata": {},
   "source": [
    "# <center>Практическое задание к уроку №1"
   ]
  },
  {
   "cell_type": "markdown",
   "id": "d48627ff",
   "metadata": {},
   "source": [
    "**1) Из колоды в 52 карты извлекаются случайным образом 4 карты.**   \n",
    "       \n",
    "      a) Найти вероятность того, что все карты – крести. \n",
    "      б) Найти вероятность, что среди 4-х карт окажется хотя бы один туз. \n",
    "   \n",
    "---"
   ]
  },
  {
   "cell_type": "markdown",
   "id": "e5678a8c",
   "metadata": {},
   "source": [
    "a) В колоде из 52 карт $\\frac{52}{4}=13$ карт одной масти.  \n",
    "Число сочетаний из $n$ элементов по $k$ элементов в каждом:  \n",
    "$C^k_n=\\frac{n!}{k!(n-k)!}$  \n",
    "\n",
    "Применяем формулу вероятности:  \n",
    "\n",
    "$P(A)=\\frac{m}{n}$ где $m$-число **благоприятных** исходов, $n$-общее число **всех** исходов.  \n",
    "в нашем случае $n=C^4_{52}$-т.е. количество способов извлечь 4 карты из 52, а $m=C^4_{13}$, способов извлечь 4 карты одной масти.  \n",
    "Создадим функцию:"
   ]
  },
  {
   "cell_type": "code",
   "execution_count": 6,
   "id": "771362b5",
   "metadata": {},
   "outputs": [],
   "source": [
    "from math import factorial\n",
    "def combinations(n, k):\n",
    "    return int(factorial(n) / (factorial(k) * factorial(n - k))) "
   ]
  },
  {
   "cell_type": "markdown",
   "id": "22b50420",
   "metadata": {},
   "source": [
    "Вычисляем $m$:"
   ]
  },
  {
   "cell_type": "code",
   "execution_count": 7,
   "id": "63f28675",
   "metadata": {},
   "outputs": [
    {
     "name": "stdout",
     "output_type": "stream",
     "text": [
      "m = 715\n"
     ]
    }
   ],
   "source": [
    "m = combinations(13, 4)\n",
    "print(f'm = {m}')"
   ]
  },
  {
   "cell_type": "markdown",
   "id": "dc10e751",
   "metadata": {},
   "source": [
    "Вычисляем $n$:"
   ]
  },
  {
   "cell_type": "code",
   "execution_count": 8,
   "id": "24984b60",
   "metadata": {},
   "outputs": [
    {
     "name": "stdout",
     "output_type": "stream",
     "text": [
      "n = 270725\n"
     ]
    }
   ],
   "source": [
    "n = combinations(52, 4)\n",
    "print(f'n = {n}')"
   ]
  },
  {
   "cell_type": "markdown",
   "id": "503d6086",
   "metadata": {},
   "source": [
    "Находим вероятность $P(A)$, где $А$ вероятность того что все 4-ре карты - крести:"
   ]
  },
  {
   "cell_type": "code",
   "execution_count": 11,
   "id": "140109a9",
   "metadata": {},
   "outputs": [
    {
     "name": "stdout",
     "output_type": "stream",
     "text": [
      "P(A) = 0.0026\n"
     ]
    }
   ],
   "source": [
    "P = m/n\n",
    "print(f'P(A) = {round(P, 4)}')"
   ]
  },
  {
   "cell_type": "markdown",
   "id": "a0454d78",
   "metadata": {},
   "source": [
    "Из формулы вероятности следует, что вероятность извлечь карту из 4-х:\n",
    "\n",
    "1-ю крести: $\\displaystyle\\frac{13}{52}$;  \n",
    "\n",
    "2-ю крести: $\\displaystyle\\frac{12}{51}$;  \n",
    "\n",
    "3-ю крести: $\\displaystyle\\frac{11}{50}$;  \n",
    "\n",
    "4-ю крести: $\\displaystyle\\frac{10}{49}$.  \n",
    "\n",
    "Так как, по условию, все карты должны быть крести, то $\\displaystyle P(A)=\\frac{13}{52}\\cdot\\frac{12}{51}\\cdot\\frac{11}{50}\\cdot\\frac{10}{49}$  \n",
    "\n",
    "Вычислим:     "
   ]
  },
  {
   "cell_type": "code",
   "execution_count": 12,
   "id": "9fbed83f",
   "metadata": {},
   "outputs": [
    {
     "name": "stdout",
     "output_type": "stream",
     "text": [
      "P(A) = 0.0026\n"
     ]
    }
   ],
   "source": [
    "P1 = 13/52 * 12/51 * 11/50 * 10/49\n",
    "print(f'P(A) = {round(P1,4)}')"
   ]
  },
  {
   "cell_type": "markdown",
   "id": "2ff4235d",
   "metadata": {},
   "source": [
    "----\n",
    "б) Найти что среди карт окажется хотя бы один туз: $\\displaystyle n=C^4_{52}$  \n",
    "где $\\displaystyle m$ будет складываться из 4 вариантов:  \n",
    "   \n",
    "1. Из 4-х карт 1 туз:  \n",
    "   число способов достать 1 туз из 4-х $C^1_4$, число способов достать три остальные карты $С^3_{48}$, общее количество сочетаний 1 туз и 3 не туза $C^1_{4}\\cdotС^3_{48}$\n",
    "\n",
    "\n",
    "2. Из 4-х карт 2 туза:  \n",
    "   число способов достать 2 туза из 4-х $C^2_4$, число способов достать две остальные карты $С^2_{48}$, общее количество сочетаний 2 туза и 2 не туза $C^2_{4}\\cdotС^2_{48}$\n",
    "\n",
    "\n",
    "3. Из 4-х карт 3 туза:  \n",
    "   число способов достать 3 туза из 4-х $C^3_4$, число способов достать оставшуюся карту $С^1_{48}$, общее количество сочетаний 3 туза и 1 не туз $C^3_{4}\\cdotС^1_{48}$\n",
    "\n",
    "\n",
    "4. Из 4-х карт 4 туза:  \n",
    "   число способов достать 4 туза из 4-х $C^4_4=1$  \n",
    "   \n",
    "\n",
    "Общее число благоприятных исходов - сумма этих 4 вариантов.  \n",
    "\n",
    "Вычислим:  "
   ]
  },
  {
   "cell_type": "code",
   "execution_count": 14,
   "id": "2bcaeba3",
   "metadata": {},
   "outputs": [
    {
     "name": "stdout",
     "output_type": "stream",
     "text": [
      "n = 270725\n"
     ]
    }
   ],
   "source": [
    "n = combinations(52, 4)\n",
    "print(f'n = {n}')"
   ]
  },
  {
   "cell_type": "code",
   "execution_count": 15,
   "id": "8b03ffb1",
   "metadata": {},
   "outputs": [
    {
     "name": "stdout",
     "output_type": "stream",
     "text": [
      "m = 76145\n"
     ]
    }
   ],
   "source": [
    "m = sum([combinations(4,1)*combinations(48,3),combinations(4,2)*combinations(48,2),combinations(4,3)*combinations(48,1),1])\n",
    "print(f'm = {m}')"
   ]
  },
  {
   "cell_type": "markdown",
   "id": "c38530b4",
   "metadata": {},
   "source": [
    "Найдем вероятность $P(A)$, где $A$ - вероятность достать хотя бы одного туза:"
   ]
  },
  {
   "cell_type": "code",
   "execution_count": 16,
   "id": "775af613",
   "metadata": {},
   "outputs": [
    {
     "name": "stdout",
     "output_type": "stream",
     "text": [
      "P(A) = 0.2813\n"
     ]
    }
   ],
   "source": [
    "P2=1-combinations(48,4)/combinations(52,4)\n",
    "print(f'P(A) = {round(P2,4)}')"
   ]
  },
  {
   "cell_type": "markdown",
   "id": "ba4dec16",
   "metadata": {},
   "source": [
    "#### Ответ:  \n",
    "а) $P(\\text{A1})\\approx 0.0026 \\approx 0.26\\%$;  \n",
    "б) $P(\\text{A2})\\approx 0.2813 \\approx 28.13\\%$.  "
   ]
  },
  {
   "cell_type": "markdown",
   "id": "d5b82bc8",
   "metadata": {},
   "source": [
    "**2) На входной двери подъезда установлен кодовый замок, содержащий десять кнопок с цифрами от 0 до 9. Код содержит три цифры, которые нужно нажать одновременно. Какова вероятность того, что человек, не знающий код, откроет дверь с первой попытки?**  \n",
    "\n",
    "---"
   ]
  },
  {
   "cell_type": "markdown",
   "id": "680e198c",
   "metadata": {},
   "source": [
    "Так как кнопки нажимаются одновременно, то порядок не важен, и для формулы вероятности $\\displaystyle P(A)=\\frac{m}{n}$ общее число исходов будет определяться количиством сочетаний 3-х элементов из 10, $\\displaystyle n=C^3_{10}$, а количество благоприятных исходов $\\displaystyle m=1$.\n",
    "\n",
    "Вычислим $\\displaystyle P(A)$:  "
   ]
  },
  {
   "cell_type": "code",
   "execution_count": 19,
   "id": "f99bcecb",
   "metadata": {},
   "outputs": [
    {
     "name": "stdout",
     "output_type": "stream",
     "text": [
      "P(A) = 0.0083\n"
     ]
    }
   ],
   "source": [
    "P = 1/combinations(10, 3)\n",
    "print(f'P(A) = {round(P, 4)}')"
   ]
  },
  {
   "cell_type": "markdown",
   "id": "449121da",
   "metadata": {},
   "source": [
    "___\n",
    "\n",
    "#### Ответ:\n",
    "\n",
    "$\\displaystyle P(A)\\approx0.0083\\approx0.83\\%$  \n",
    "\n",
    "___"
   ]
  },
  {
   "cell_type": "markdown",
   "id": "d4dca737",
   "metadata": {},
   "source": [
    "**3) В ящике имеется 15 деталей, из которых 9 окрашены. Рабочий случайным образом извлекает 3 детали. Какова вероятность того, что все извлеченные детали окрашены?**  \n",
    "\n",
    "---"
   ]
  },
  {
   "cell_type": "markdown",
   "id": "0450a7bb",
   "metadata": {},
   "source": [
    "Общее количество исходов будет определяться количеством сочетаний 3 деталей из 15: $\\displaystyle n=C^3_{15}$, а количество благоприятных исходов - количеством сочетаний 3-х окрашенных деталей из 9:  $\\displaystyle m=C^3_{9}$  \n",
    "\n",
    "Вычислим $P(A)$, где $А$ - вероятность что все детали окрашены:"
   ]
  },
  {
   "cell_type": "code",
   "execution_count": 20,
   "id": "ed90a8e2",
   "metadata": {},
   "outputs": [
    {
     "name": "stdout",
     "output_type": "stream",
     "text": [
      "P(A) = 0.1846\n"
     ]
    }
   ],
   "source": [
    "P = combinations(9, 3)/combinations(15, 3)\n",
    "print(f'P(A) = {round(P, 4)}')"
   ]
  },
  {
   "cell_type": "markdown",
   "id": "5ac60c91",
   "metadata": {},
   "source": [
    "---\n",
    "\n",
    "#### Ответ:  \n",
    "$P(A)\\approx0.1846\\approx18.46\\%$  \n",
    "\n",
    "---"
   ]
  },
  {
   "cell_type": "markdown",
   "id": "ab9585d3",
   "metadata": {},
   "source": [
    "**4) В лотерее 100 билетов. Из них 2 выигрышных. Какова вероятность того, что 2 приобретенных билета окажутся выигрышными?**  \n",
    "\n",
    "---"
   ]
  },
  {
   "cell_type": "markdown",
   "id": "a06ae9b4",
   "metadata": {},
   "source": [
    "Найдем вероятность $P(A)$, где $A$ - вероятность, что 2 билета выигрышные: \n",
    "\n",
    "$\\displaystyle P(A)=\\frac{1}{C^2_{100}}=\\frac{1}{\\frac{100!}{2!(100-2)!}}=\\frac{2!\\cdot98!}{100!}$ \n",
    "\n",
    "Вычислим:"
   ]
  },
  {
   "cell_type": "code",
   "execution_count": 23,
   "id": "e38a1a73",
   "metadata": {},
   "outputs": [
    {
     "name": "stdout",
     "output_type": "stream",
     "text": [
      "P(A) = 0.0002\n"
     ]
    }
   ],
   "source": [
    "P = 1/combinations(100, 2)\n",
    "print(f'P(A) = {round(P, 4)}')"
   ]
  },
  {
   "cell_type": "markdown",
   "id": "aba8297e",
   "metadata": {},
   "source": [
    "___\n",
    "\n",
    "#### Ответ:\n",
    "\n",
    "$P(A)\\approx0.0002\\approx0.2\\%$\n",
    "\n",
    "___"
   ]
  }
 ],
 "metadata": {
  "kernelspec": {
   "display_name": "Python 3 (ipykernel)",
   "language": "python",
   "name": "python3"
  },
  "language_info": {
   "codemirror_mode": {
    "name": "ipython",
    "version": 3
   },
   "file_extension": ".py",
   "mimetype": "text/x-python",
   "name": "python",
   "nbconvert_exporter": "python",
   "pygments_lexer": "ipython3",
   "version": "3.9.12"
  }
 },
 "nbformat": 4,
 "nbformat_minor": 5
}
