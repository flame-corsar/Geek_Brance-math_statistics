{
 "cells": [
  {
   "cell_type": "markdown",
   "id": "4ac76bd8",
   "metadata": {},
   "source": [
    "## <center> Практическое задание к уроку № 2"
   ]
  },
  {
   "cell_type": "markdown",
   "id": "9eec7e33",
   "metadata": {},
   "source": [
    "___\n",
    "\n",
    "**1. Вероятность того, что стрелок попадет в мишень, выстрелив один раз, равна 0.8. Стрелок выстрелил 100 раз. Найдите вероятность того, что стрелок попадет в цель ровно 85 раз.**"
   ]
  },
  {
   "cell_type": "markdown",
   "id": "17e6e6c6",
   "metadata": {},
   "source": [
    "Воспользуемся формулой Бернулли: $\\displaystyle P_{n}(X=k)=C^k_{n}p^{k}q^{n-k}$, где:\n",
    "\n",
    "$n=100\\\\k=85\\\\p=0.8\\\\q=0.2$ \n",
    "\n",
    "Тогда:  \n",
    "\n",
    "$P_{100}(X=85)=C^{85}_{100}\\cdot0.8^{85}\\cdot0.2^{15}=\\frac{100!}{85!(100-85)!}\\cdot0.8^{85}\\cdot0.2^{15}$   \n",
    "\n",
    "Вычислим:"
   ]
  },
  {
   "cell_type": "code",
   "execution_count": 7,
   "id": "b6136d37",
   "metadata": {},
   "outputs": [],
   "source": [
    "from math import factorial, exp"
   ]
  },
  {
   "cell_type": "code",
   "execution_count": 10,
   "id": "ad352ace",
   "metadata": {},
   "outputs": [],
   "source": [
    "def bernulli(n, k, p):\n",
    "    comb = factorial(n)/(factorial(k) * factorial(n - k))\n",
    "    return comb * (p**k) * (1 - p)**(n - k)"
   ]
  },
  {
   "cell_type": "code",
   "execution_count": 14,
   "id": "f0545164",
   "metadata": {},
   "outputs": [
    {
     "name": "stdout",
     "output_type": "stream",
     "text": [
      "P = 0.0481\n"
     ]
    }
   ],
   "source": [
    "print(f'P = {round(bernulli(100, 85, 0.8), 4)}')"
   ]
  },
  {
   "cell_type": "markdown",
   "id": "02bda23c",
   "metadata": {},
   "source": [
    "---  \n",
    "\n",
    "#### Ответ:  \n",
    "\n",
    "$P(A)=0.0481=4.81\\%$  \n",
    "\n",
    "---"
   ]
  },
  {
   "cell_type": "markdown",
   "id": "95919116",
   "metadata": {},
   "source": [
    "**2. Вероятность того, что лампочка перегорит в течение первого дня эксплуатации, равна 0.0004. В жилом комплексе после ремонта в один день включили 5000 новых лампочек.**  \n",
    "   **a) Какова вероятность, что ни одна из них не перегорит в первый день?**  "
   ]
  },
  {
   "cell_type": "markdown",
   "id": "b3709093",
   "metadata": {},
   "source": [
    "Так как в задаче вероятность наступления события мала, а количество испытаний велико, для решения задачи воспользуемся формулой Пуассона:  \n",
    "\n",
    "$\\displaystyle P_m=\\frac{\\lambda^m}{m!}\\cdot e^{-\\lambda}\\text{, где }\\lambda \\text{ среднее количество наступления события за определенную единицу измерений, и }\\lambda=p\\cdot n$\n",
    "\n",
    "Напишем функцию:  "
   ]
  },
  {
   "cell_type": "code",
   "execution_count": 16,
   "id": "0e225ad1",
   "metadata": {},
   "outputs": [],
   "source": [
    "def poisson_distr(m,p,n):\n",
    "    lamb = p * n\n",
    "    return exp(-lamb) * (lamb**m) / factorial(m)"
   ]
  },
  {
   "cell_type": "markdown",
   "id": "a1299ba3",
   "metadata": {},
   "source": [
    "a)  По условию задания:\n",
    "\n",
    "$\\displaystyle p=0.0004\\\\n=5000\\\\m=0$  \n",
    "\n",
    "Тогда:"
   ]
  },
  {
   "cell_type": "code",
   "execution_count": 17,
   "id": "87524307",
   "metadata": {},
   "outputs": [
    {
     "name": "stdout",
     "output_type": "stream",
     "text": [
      "P =  0.2707\n"
     ]
    }
   ],
   "source": [
    "print(f'P = {poisson_distr(2, 0.0004, 5000): .4f}')"
   ]
  },
  {
   "cell_type": "markdown",
   "id": "1c437f1c",
   "metadata": {},
   "source": [
    "---  \n",
    "#### Ответ:  \n",
    "\n",
    "$\\displaystyle P(A)\\approx0.2707\\approx27.07\\%$  \n",
    "\n",
    "---"
   ]
  },
  {
   "cell_type": "markdown",
   "id": "6ad69952",
   "metadata": {},
   "source": [
    "**3. Монету подбросили 144 раза. Какова вероятность, что орел выпадет ровно 70 раз?**"
   ]
  },
  {
   "cell_type": "markdown",
   "id": "2bdba110",
   "metadata": {},
   "source": [
    "Применим формулу Бернулли:\n",
    "\n",
    "$n = 144\\\\k = 70\\\\p = 0.5$\n",
    "\n",
    "Тогда:"
   ]
  },
  {
   "cell_type": "code",
   "execution_count": 20,
   "id": "f81f7fae",
   "metadata": {},
   "outputs": [
    {
     "name": "stdout",
     "output_type": "stream",
     "text": [
      "P =  0.0628\n"
     ]
    }
   ],
   "source": [
    "print(f'P = {bernulli(144,70,0.5): .4f}')"
   ]
  },
  {
   "cell_type": "markdown",
   "id": "c9bb7bd9",
   "metadata": {},
   "source": [
    "---  \n",
    "#### Ответ:  \n",
    "\n",
    "$\\displaystyle P(A)\\approx0.0628\\approx6.28\\%$  \n",
    "\n",
    "---"
   ]
  }
 ],
 "metadata": {
  "kernelspec": {
   "display_name": "Python 3 (ipykernel)",
   "language": "python",
   "name": "python3"
  },
  "language_info": {
   "codemirror_mode": {
    "name": "ipython",
    "version": 3
   },
   "file_extension": ".py",
   "mimetype": "text/x-python",
   "name": "python",
   "nbconvert_exporter": "python",
   "pygments_lexer": "ipython3",
   "version": "3.9.12"
  }
 },
 "nbformat": 4,
 "nbformat_minor": 5
}
