{
 "cells": [
  {
   "cell_type": "markdown",
   "id": "a0fe3855",
   "metadata": {},
   "source": [
    "# <center> Практическое задание к уроку №3"
   ]
  },
  {
   "cell_type": "markdown",
   "id": "23e0ed5c",
   "metadata": {},
   "source": [
    "___\n",
    "\n",
    "**1. Даны значения зарплат из выборки выпускников: 100, 80, 75, 77, 89, 33, 45, 25, 65, 17, 30, 24, 57, 55, 70, 75, 65, 84, 90, 150. Посчитать (желательно без использования статистических методов наподобие std, var, mean):**  \n",
    "   **а) среднее арифметическое,**  \n",
    "   **б) среднее квадратичное отклонение,**  \n",
    "   **с) смещенную и несмещенную оценки дисперсий для данной выборки.**"
   ]
  },
  {
   "cell_type": "code",
   "execution_count": 1,
   "id": "7e505140",
   "metadata": {},
   "outputs": [],
   "source": [
    "import numpy as np\n",
    "from math import factorial"
   ]
  },
  {
   "cell_type": "code",
   "execution_count": 8,
   "id": "aaf78b7e",
   "metadata": {},
   "outputs": [],
   "source": [
    "arr = np.array([100, 80, 75, 77, 89, 33, 45, 25, 65, 17, 30, 24, 57, 55, 70, 75, 65, 84, 90, 150])"
   ]
  },
  {
   "cell_type": "markdown",
   "id": "5379055c",
   "metadata": {},
   "source": [
    "Среднее арифметическое: $\\displaystyle M(X)=\\frac{1}{n}\\sum^n{i=1}x_i$"
   ]
  },
  {
   "cell_type": "code",
   "execution_count": 9,
   "id": "30ff16c3",
   "metadata": {},
   "outputs": [],
   "source": [
    "def mean_value(array):\n",
    "    return sum(array)/len(array)"
   ]
  },
  {
   "cell_type": "code",
   "execution_count": 10,
   "id": "2327a67c",
   "metadata": {},
   "outputs": [
    {
     "name": "stdout",
     "output_type": "stream",
     "text": [
      "M(X) =  65.30\n"
     ]
    }
   ],
   "source": [
    "print(f'M(X) = {mean_value(arr): .2f}')"
   ]
  },
  {
   "cell_type": "code",
   "execution_count": 16,
   "id": "d818448e",
   "metadata": {},
   "outputs": [
    {
     "data": {
      "text/plain": [
       "65.3"
      ]
     },
     "execution_count": 16,
     "metadata": {},
     "output_type": "execute_result"
    }
   ],
   "source": [
    "np.mean(arr)"
   ]
  },
  {
   "cell_type": "markdown",
   "id": "275fd07d",
   "metadata": {},
   "source": [
    "Среднее квадратичное отклонение: $\\sigma=\\sqrt{\\frac{\\displaystyle\\sum^n_{i=1}(x_{i}-\\bar x)^2}{n}}$"
   ]
  },
  {
   "cell_type": "code",
   "execution_count": 21,
   "id": "da7efb93",
   "metadata": {},
   "outputs": [],
   "source": [
    "def mean_square_deviation(array):\n",
    "    square_dev = (array - mean_value(array))**2\n",
    "    return (sum(square_dev)/len(square_dev))**(1/2)"
   ]
  },
  {
   "cell_type": "code",
   "execution_count": 23,
   "id": "338ddf7f",
   "metadata": {},
   "outputs": [
    {
     "name": "stdout",
     "output_type": "stream",
     "text": [
      "SD =  30.8239\n"
     ]
    }
   ],
   "source": [
    "print(f'SD = {mean_square_deviation(arr): .4f}')"
   ]
  },
  {
   "cell_type": "markdown",
   "id": "45b52cb5",
   "metadata": {},
   "source": [
    "Смещенная оценка дисперсии: $\\sigma^2\\frac{\\displaystyle\\sum^n{i=1}(x_{i}-\\bar x)^2}{n}$"
   ]
  },
  {
   "cell_type": "code",
   "execution_count": 30,
   "id": "8f9d8403",
   "metadata": {},
   "outputs": [],
   "source": [
    "def dispers(array, no_off=False):\n",
    "    square_dev = (array - mean_value(array))**2\n",
    "    return sum(square_dev)/(len(square_dev) - 1) if no_off else sum(square_dev)/len(square_dev)"
   ]
  },
  {
   "cell_type": "code",
   "execution_count": 31,
   "id": "be92886b",
   "metadata": {},
   "outputs": [
    {
     "name": "stdout",
     "output_type": "stream",
     "text": [
      "D1 =  950.1100\n",
      "\n",
      "D2 =  1000.1158\n"
     ]
    }
   ],
   "source": [
    "print(f'D1 = {dispers(arr): .4f}\\n')\n",
    "print(f'D2 = {dispers(arr, True): .4f}')"
   ]
  },
  {
   "cell_type": "code",
   "execution_count": 32,
   "id": "e11541e4",
   "metadata": {},
   "outputs": [
    {
     "data": {
      "text/plain": [
       "950.11"
      ]
     },
     "execution_count": 32,
     "metadata": {},
     "output_type": "execute_result"
    }
   ],
   "source": [
    "np.var(arr)"
   ]
  },
  {
   "cell_type": "code",
   "execution_count": 33,
   "id": "bd42eb58",
   "metadata": {},
   "outputs": [
    {
     "data": {
      "text/plain": [
       "1000.1157894736842"
      ]
     },
     "execution_count": 33,
     "metadata": {},
     "output_type": "execute_result"
    }
   ],
   "source": [
    "np.var(arr, ddof=1)"
   ]
  },
  {
   "cell_type": "markdown",
   "id": "24ea8327",
   "metadata": {},
   "source": [
    "___\n",
    "\n",
    "#### Ответ:\n",
    "\n",
    "а) $М(Х)= 65.30$;  \n",
    "б) $\\sigma = 30.8239$;  \n",
    "в) $\\sigma^2_{\\text{смещ}}=950.11$, $\\sigma^2_{\\text{несмещ}}=1000.1158$.  \n",
    "\n",
    "---"
   ]
  },
  {
   "cell_type": "markdown",
   "id": "03583175",
   "metadata": {},
   "source": [
    "**2. В первом ящике находится 8 мячей, из которых 5 - белые. Во втором ящике - 12 мячей, из которых 5 белых. Из первого ящика вытаскивают случайным образом два мяча, из второго - 4. Какова вероятность того, что 3 мяча белые?**"
   ]
  },
  {
   "cell_type": "markdown",
   "id": "abd92e03",
   "metadata": {},
   "source": [
    "Пусть $A$ - искомое событие. Оно может произойти:\n",
    "    \n",
    "1. $A1$ из первой корзины ни одного мяча, из второй - все три\n",
    "2. $A2$ из перовой корзины - 1 мяч, из второй - 2\n",
    "3. $A3$ из первой корзины - 2 мяча, из второй - 1\n",
    "    \n",
    "Вероятность $A$, будет оцениваться как сумма всех событий.\n",
    "\n",
    "___\n",
    "\n",
    "Вероятность события $A1$: $P(A_1)=\\frac{C^2_3}{C^2_8}\\cdot\\frac{C^3_5\\cdot C^1_7}{C^4_{12}}$"
   ]
  },
  {
   "cell_type": "code",
   "execution_count": 41,
   "id": "55bd7ce1",
   "metadata": {},
   "outputs": [],
   "source": [
    "def combinations(n, k):\n",
    "    return factorial(n)/(factorial(k) * factorial(n - k))"
   ]
  },
  {
   "cell_type": "code",
   "execution_count": 42,
   "id": "40e06964",
   "metadata": {},
   "outputs": [
    {
     "name": "stdout",
     "output_type": "stream",
     "text": [
      "P1 = 0.0152\n"
     ]
    }
   ],
   "source": [
    "P1 = (combinations(3, 2)/combinations(8, 2)) * ((combinations(5, 3) * combinations(7, 1))/combinations(12, 4))\n",
    "print(f'P1 = {round(P1, 4)}')"
   ]
  },
  {
   "cell_type": "markdown",
   "id": "205859a9",
   "metadata": {},
   "source": [
    "Вероятность события $A2$: $P(A_2)=\\frac{C^1_5\\cdot C^1_3}{C^2_8}\\cdot\\frac{C^2_5\\cdot C^2_7}{C^4_{12}}$"
   ]
  },
  {
   "cell_type": "code",
   "execution_count": 43,
   "id": "d5fa07f7",
   "metadata": {},
   "outputs": [],
   "source": [
    "P2 = (combinations(5,1) * combinations(3,1)*combinations(5,2)*combinations(7,2))/(combinations(8,2)*combinations(12,4))"
   ]
  },
  {
   "cell_type": "code",
   "execution_count": 48,
   "id": "10265133",
   "metadata": {},
   "outputs": [
    {
     "name": "stdout",
     "output_type": "stream",
     "text": [
      "P2 = 0.2273\n"
     ]
    }
   ],
   "source": [
    "print(f'P2 = {round(P2, 4)}')"
   ]
  },
  {
   "cell_type": "markdown",
   "id": "ba524e5b",
   "metadata": {},
   "source": [
    "Вероятность события $A$: $P(A_3) = \\frac{C^2_5}{C^2_8}\\cdot\\frac{C^1_5\\cdot C^3_7}{C^4_{12}}$"
   ]
  },
  {
   "cell_type": "code",
   "execution_count": 47,
   "id": "3ef8bc96",
   "metadata": {},
   "outputs": [],
   "source": [
    "P3 = (combinations(5,2)*combinations(5,1)*combinations(7,3))/(combinations(8,2)*combinations(12,4))"
   ]
  },
  {
   "cell_type": "code",
   "execution_count": 49,
   "id": "5b563195",
   "metadata": {},
   "outputs": [
    {
     "name": "stdout",
     "output_type": "stream",
     "text": [
      "P3 = 0.2273\n"
     ]
    }
   ],
   "source": [
    "print(f'P3 = {round(P2, 4)}')"
   ]
  },
  {
   "cell_type": "markdown",
   "id": "d737a92d",
   "metadata": {},
   "source": [
    "$P(A) = P(A_1) + P(A_2) + P(A_3)$"
   ]
  },
  {
   "cell_type": "code",
   "execution_count": 51,
   "id": "b0d4235c",
   "metadata": {},
   "outputs": [
    {
     "name": "stdout",
     "output_type": "stream",
     "text": [
      "P(A) = 0.3687\n"
     ]
    }
   ],
   "source": [
    "print(f'P(A) = {round(P1+P2+P3, 4)}')"
   ]
  },
  {
   "cell_type": "markdown",
   "id": "b1da836d",
   "metadata": {},
   "source": [
    "___\n",
    "\n",
    "#### Ответ:\n",
    "\n",
    "$P(A)\\approx0.3687\\approx36.87\\%$"
   ]
  },
  {
   "cell_type": "markdown",
   "id": "43aa380a",
   "metadata": {},
   "source": [
    "___\n",
    "\n",
    "**3. На соревновании по биатлону один из трех спортсменов стреляет и попадает в мишень. Вероятность попадания для первого спортсмена равна 0.9, для второго — 0.8, для третьего — 0.6. Найти вероятность того, что выстрел произведен:**  \n",
    "   **a) первым спортсменом;**  \n",
    "   **б) вторым спортсменом;**  \n",
    "   **в) третьим спортсменом.**"
   ]
  },
  {
   "cell_type": "markdown",
   "id": "c470ebe8",
   "metadata": {},
   "source": [
    "Варианты развития событий:\n",
    "\n",
    "$A$ - попадание в мишень\n",
    "$B_1$ - попадание 1-м спортсменом\n",
    "$B_2$ - попадание 2-м спортсменом\n",
    "$B_3$ - попадание 3-м спортсменом\n",
    "\n",
    "События $B_1, B_2, B_3$ состовляют полную группу событий:\n",
    "\n",
    "$P(B_1) + P(B_2) + P(B_3) = \\frac{1}{3}$\n",
    "\n",
    "Событие $A$ при условии наступления $B_n$, даны в условии задачи:\n",
    "\n",
    "$P_{B_1}(A) = 0.9$\n",
    "\n",
    "$P_{B_2}(A) = 0.8$ \n",
    "\n",
    "$P_{B_3}(A) = 0.6$\n",
    "\n",
    "По формуле полной вероятности, вероятность наступления события $A$:\n",
    "\n",
    "$A$ - $P(A)=P(B_1)\\cdot P_{B_1}(A)+P(B_2)\\cdot P_{B_2}(A)+P(B_3)\\cdot P_{B_3}(A)=\\frac{1}{3}\\cdot 0.9+\\frac{1}{3}\\cdot 0.8+\\frac{1}{3}\\cdot 0.6$  "
   ]
  },
  {
   "cell_type": "code",
   "execution_count": 53,
   "id": "e021e493",
   "metadata": {},
   "outputs": [
    {
     "name": "stdout",
     "output_type": "stream",
     "text": [
      "Р(А) =  0.7667\n"
     ]
    }
   ],
   "source": [
    "P_B = 1/3\n",
    "P_A = P_B * 0.9 + P_B * 0.8 + P_B * 0.6\n",
    "print(f'Р(А) = {P_A: .4f}')"
   ]
  },
  {
   "cell_type": "markdown",
   "id": "40475d0c",
   "metadata": {},
   "source": [
    "Так как, событие $A$ уже произошло, с помощью формулы Байеса оценим вероятность того, что имело место одно из событий $B_n$  \n",
    "\n",
    "$P_A(B_n)=\\frac{P(B_n)\\cdot P_{B_n}(A)}{P(A)}$\n",
    "\n",
    "$\\Downarrow\\\\P_A(B_1)=\\frac{\\frac{1}{3}\\cdot 0.9}{0.7667}\\\\P_A(B_2)=\\frac{\\frac{1}{3}\\cdot 0.8}{0.7667}\\\\P_A(B_1)=\\frac{\\frac{1}{3}\\cdot 0.6}{0.7667}$  \n"
   ]
  },
  {
   "cell_type": "code",
   "execution_count": 63,
   "id": "8942c468",
   "metadata": {},
   "outputs": [
    {
     "name": "stdout",
     "output_type": "stream",
     "text": [
      "P_A_B1:  0.3913\n",
      "P_A_B2:  0.3478\n",
      "P_A_B3:  0.2609\n"
     ]
    }
   ],
   "source": [
    "P_A_B1 = P_B * 0.9/P_A\n",
    "P_A_B2 = P_B * 0.8/P_A\n",
    "P_A_B3 = P_B * 0.6/P_A\n",
    "print(f'P_A_B1: {P_A_B1: .4f}')\n",
    "print(f'P_A_B2: {P_A_B2: .4f}')\n",
    "print(f'P_A_B3: {P_A_B3: .4f}')"
   ]
  },
  {
   "cell_type": "markdown",
   "id": "dab38baa",
   "metadata": {},
   "source": [
    "---\n",
    "#### Ответ:  \n",
    "а) Вероятность того, что выстрел произвёл первый спортсмен:  $P_{A}(B_1)\\approx0.3913\\approx39.13\\%$;  \n",
    "б) Вероятность того, что выстрел произвёл второй спортсмен:  $P_{A}(B_2)\\approx0.3478\\approx34.78\\%$;  \n",
    "в) Вероятность того, что выстрел произвёл третий спортсмен:  $P_{A}(B_3)\\approx0.2609\\approx26.09\\%$.    \n",
    "\n",
    "---"
   ]
  }
 ],
 "metadata": {
  "kernelspec": {
   "display_name": "Python 3 (ipykernel)",
   "language": "python",
   "name": "python3"
  },
  "language_info": {
   "codemirror_mode": {
    "name": "ipython",
    "version": 3
   },
   "file_extension": ".py",
   "mimetype": "text/x-python",
   "name": "python",
   "nbconvert_exporter": "python",
   "pygments_lexer": "ipython3",
   "version": "3.9.12"
  }
 },
 "nbformat": 4,
 "nbformat_minor": 5
}
