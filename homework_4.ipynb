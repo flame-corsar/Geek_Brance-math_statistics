{
 "cells": [
  {
   "cell_type": "markdown",
   "id": "b6136f9c",
   "metadata": {},
   "source": [
    "# <center> Практическое задание к уроку №4"
   ]
  },
  {
   "cell_type": "markdown",
   "id": "20315ace",
   "metadata": {},
   "source": [
    "___\n",
    "\n",
    "**1. Случайная непрерывная величина A имеет равномерное распределение на промежутке $(200, 800]$. Найдите ее среднее значение и дисперсию.**"
   ]
  },
  {
   "cell_type": "markdown",
   "id": "6c0c520e",
   "metadata": {},
   "source": [
    "Математическое ожидание: $M(X) =\\frac{a + b}{2}$ \n",
    "\n",
    "Дисперсия: $D(X) =\\frac{(b - a)^2}{12}$"
   ]
  },
  {
   "cell_type": "code",
   "execution_count": 3,
   "id": "97b5b512",
   "metadata": {},
   "outputs": [],
   "source": [
    "def mean_and_variance(a, b):\n",
    "    M_A = (a + b)/2\n",
    "    D_X = (b - a)**2/12\n",
    "    return M_A, D_X"
   ]
  },
  {
   "cell_type": "code",
   "execution_count": 4,
   "id": "8156008c",
   "metadata": {},
   "outputs": [
    {
     "name": "stdout",
     "output_type": "stream",
     "text": [
      "(500.0, 30000.0)\n"
     ]
    }
   ],
   "source": [
    "print(mean_and_variance(200,800))"
   ]
  },
  {
   "cell_type": "markdown",
   "id": "6c097e08",
   "metadata": {},
   "source": [
    "---  \n",
    "#### Ответ:  \n",
    "$M(A)=500.00\\\\D(A)=30000.00$  \n",
    "\n",
    "---"
   ]
  },
  {
   "cell_type": "markdown",
   "id": "a639a69a",
   "metadata": {},
   "source": [
    "**2. О случайной непрерывной равномерно распределенной величине B известно, что ее дисперсия равна 0.2. Можно ли найти правую границу величины B и ее среднее значение зная, что левая граница равна 0.5? Если да, найдите ее.**"
   ]
  },
  {
   "cell_type": "markdown",
   "id": "8e18653f",
   "metadata": {},
   "source": [
    "Дисперсия случайной непрерывнойравномерно распределенной на отрезке:\n",
    "\n",
    "$D(B) =\\frac{(b-a)^2}{12}$\n",
    "\n",
    "Правая граница $b$:\n",
    "\n",
    "$\\displaystyle \\frac{(b-0.5)^2}{12} = 0.2\\\\b-0.5=\\sqrt{2.4}\\\\b=0.5+\\sqrt{2.4}$\n",
    "\n",
    "Среднее значение:\n",
    "\n",
    "$\\displaystyle\\ M(B) = \\frac{a + b}{2}$"
   ]
  },
  {
   "cell_type": "code",
   "execution_count": 8,
   "id": "c786bd57",
   "metadata": {},
   "outputs": [
    {
     "name": "stdout",
     "output_type": "stream",
     "text": [
      "b = 2.05\n",
      "M(B) = 1.27\n"
     ]
    }
   ],
   "source": [
    "b = 0.5 + 2.4**(1/2)\n",
    "M_B = (b + 0.5)/2\n",
    "print(f'b = {round(b, 2)}\\n'\n",
    "     f'M(B) = {round(M_B, 2)}')"
   ]
  },
  {
   "cell_type": "markdown",
   "id": "f512d4b5",
   "metadata": {},
   "source": [
    "---\n",
    "#### Ответ:  \n",
    "Левая граница распределения: $b\\approx2.05$  \n",
    "Среднее значение: $M(B)\\approx1.27$  \n",
    "\n",
    "---"
   ]
  },
  {
   "cell_type": "markdown",
   "id": "933dc1fe",
   "metadata": {},
   "source": [
    "**3. Непрерывная случайная величина X распределена нормально и задана плотностью распределения** \n",
    "\n",
    "$\\displaystyle f(x)=\\frac{1}{4\\cdot\\sqrt{2\\pi}}\\cdot e^{-\\frac{(x+2)^2}{32}}$, \n",
    "\n",
    "**Найдите:**  \n",
    "   **а) $M(X)$**  \n",
    "   **б) $D(X)$**  \n",
    "   **в) $\\displaystyle\\sigma$ (среднее квадратичное отклонение)**"
   ]
  },
  {
   "cell_type": "markdown",
   "id": "0428ffd3",
   "metadata": {},
   "source": [
    "Из общей формулы плотности нормального распределения:\n",
    "\n",
    "$\\displaystyle f(x)=\\frac{1}{\\sigma\\sqrt{2\\pi}}\\cdot e^{-\\frac{(x - a)^2}{2\\sigma^2}}$\n",
    "\n",
    "$M(X)= a =-2 \\\\\\sigma = 4 \\\\ D(X) = \\sigma^2 = 16$"
   ]
  },
  {
   "cell_type": "markdown",
   "id": "4825ce11",
   "metadata": {},
   "source": [
    "___\n",
    "\n",
    "#### Ответ:\n",
    "\n",
    "$M(X) = -2 \\\\D(X) = 16 \\\\\\displaystyle\\sigma = 4$\n",
    "\n",
    "___"
   ]
  }
 ],
 "metadata": {
  "kernelspec": {
   "display_name": "Python 3 (ipykernel)",
   "language": "python",
   "name": "python3"
  },
  "language_info": {
   "codemirror_mode": {
    "name": "ipython",
    "version": 3
   },
   "file_extension": ".py",
   "mimetype": "text/x-python",
   "name": "python",
   "nbconvert_exporter": "python",
   "pygments_lexer": "ipython3",
   "version": "3.9.12"
  }
 },
 "nbformat": 4,
 "nbformat_minor": 5
}
