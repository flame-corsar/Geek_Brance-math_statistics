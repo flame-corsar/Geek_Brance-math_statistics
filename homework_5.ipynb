{
 "cells": [
  {
   "cell_type": "markdown",
   "id": "5b25926d",
   "metadata": {},
   "source": [
    "## <center>Практическое задание к лекции 5"
   ]
  },
  {
   "cell_type": "markdown",
   "id": "9c18b3bc",
   "metadata": {},
   "source": [
    "___\n",
    "\n",
    "**1. Известно, что генеральная совокупность распределена нормально, со средним квадратическим отклонением, $\\displaystyle\\sigma=16$. Найти доверительный интервал для оценки математического ожидания с надежностью $0.95$, если выборочная средняя $M=80$, а объем выборки $n=256$.**"
   ]
  },
  {
   "cell_type": "markdown",
   "id": "db283994",
   "metadata": {},
   "source": [
    "Среднее квадратичное отклонение генеральной совокупности $\\sigma=16$, отсюда - для расчета $95\\$-го доверительного интервала, используем $Z$-критерий. Расчет по формуле:\n",
    "\n",
    "$\\displaystyle\\bar X\\pm z_{\\alpha/2}\\cdot\\frac{\\sigma}{\\sqrt n}$, где:\n",
    "\n",
    "$\\bar X = M = 80$ - среднее значение выборки\n",
    "\n",
    "$z_{alpha/2}$ - табличное значение $Z$-критерия\n",
    "\n",
    "$z_{alpha/2} = 1,96$ - значение для %95\\%-го  доверительного интервала\n",
    "\n",
    "$\\sigma = 16$ - среднее квадратичное отклонение генеральной совокупности\n",
    "\n",
    "$n = 256$ - обьем выборки\n",
    "\n",
    "Таким образом $95\\%$-й доверительный интервал расчитаем как: \n",
    "\n",
    "$\\left[80-1.96\\cdot\\frac{16}{\\sqrt 256};80+1.96\\cdot\\frac{16}{\\sqrt 256}\\right]$ "
   ]
  },
  {
   "cell_type": "code",
   "execution_count": 2,
   "id": "52350c1c",
   "metadata": {},
   "outputs": [
    {
     "name": "stdout",
     "output_type": "stream",
     "text": [
      "78.04 81.96\n"
     ]
    }
   ],
   "source": [
    "left = 80 - 1.96 * 16/256**(1/2)\n",
    "right = 80 + 1.96 * 16/256**(1/2)\n",
    "print(left, right)"
   ]
  },
  {
   "cell_type": "markdown",
   "id": "b94c4e3b",
   "metadata": {},
   "source": [
    "---  \n",
    "#### Ответ:  \n",
    "$95\\%$-й доверительный интервал для оценки мат. ожидания генеральной совокупности: $\\left[78.04;81.96\\right]$  \n",
    "\n",
    "---"
   ]
  },
  {
   "cell_type": "markdown",
   "id": "8bcbd93e",
   "metadata": {},
   "source": [
    "**2. В результате 10 независимых измерений некоторой величины X, выполненных с одинаковой точностью, получены опытные данные: 6.9, 6.1, 6.2, 6.8, 7.5, 6.3, 6.4, 6.9, 6.7, 6.1 Предполагая, что результаты измерений подчинены нормальному закону распределения вероятностей, оценить истинное значение величины X при помощи доверительного интервала, покрывающего это значение с доверительной вероятностью 0,95.**"
   ]
  },
  {
   "cell_type": "markdown",
   "id": "3627da6f",
   "metadata": {},
   "source": [
    "Поскольку из условия задачи нам ничего не известно ни о мат. ожидании генеральной совокупности ни о среднем квадратическом отклонении для генеральной совокупности, то для расчета $95\\%$-го доверительного интервала будем использовать $t$-критерий,  и формулу:  \n",
    "\n",
    "$\\displaystyle\\bar X\\pm t_{\\alpha/2}\\cdot\\frac{\\sigma_{несмещ}}{\\sqrt{n}}$, где  \n",
    "\n",
    "$\\sigma_{несмещ}$-несмещённое среднее квадратическое отклонение выборки,  \n",
    "\n",
    "$n$-размер выборки  \n",
    "\n",
    "Воспользуемся встроенными функциями библиотеки $numpy$:"
   ]
  },
  {
   "cell_type": "code",
   "execution_count": 3,
   "id": "8eb22ca2",
   "metadata": {},
   "outputs": [],
   "source": [
    "import numpy as np"
   ]
  },
  {
   "cell_type": "code",
   "execution_count": 12,
   "id": "cb3f8823",
   "metadata": {},
   "outputs": [
    {
     "name": "stdout",
     "output_type": "stream",
     "text": [
      "sigma = 0.45\n"
     ]
    }
   ],
   "source": [
    "arr = np.array([6.9, 6.1, 6.2, 6.8, 7.5, 6.3, 6.4, 6.9, 6.7, 6.1])\n",
    "np.mean(arr)\n",
    "n = len(arr)\n",
    "sigma = np.std(arr, ddof=1)\n",
    "print(f'sigma = {round(sigma, 2)}')"
   ]
  },
  {
   "cell_type": "markdown",
   "id": "b443024b",
   "metadata": {},
   "source": [
    "Вычисляем $t$-критерий:"
   ]
  },
  {
   "cell_type": "code",
   "execution_count": 13,
   "id": "cfd38fb3",
   "metadata": {},
   "outputs": [],
   "source": [
    "import scipy.stats as stats"
   ]
  },
  {
   "cell_type": "code",
   "execution_count": 14,
   "id": "472f0e92",
   "metadata": {},
   "outputs": [],
   "source": [
    "def t_from_table(confidens, len_array):\n",
    "    alpha = (1 - confidens)\n",
    "    return stats.t.ppf(1-alpha/2, len_array - 1)"
   ]
  },
  {
   "cell_type": "code",
   "execution_count": 15,
   "id": "fb68c170",
   "metadata": {},
   "outputs": [
    {
     "name": "stdout",
     "output_type": "stream",
     "text": [
      "95%-й доверительный интервал для истинного значения Х: (6.268, 6.912).\n"
     ]
    }
   ],
   "source": [
    "def confidens_int(arr, confidens):\n",
    "    return round(np.mean(arr)-t_from_table(confidens,len(arr))*np.std(arr, ddof=1)/len(arr)**0.5,3), \\\n",
    "           round(np.mean(arr)+t_from_table(confidens,len(arr))*np.std(arr, ddof=1)/len(arr)**0.5,3)\n",
    "\n",
    "print(f'95%-й доверительный интервал для истинного значения Х: {confidens_int(arr, 0.95)}.')"
   ]
  },
  {
   "cell_type": "markdown",
   "id": "d2c2113b",
   "metadata": {},
   "source": [
    "---  \n",
    "#### Ответ:  \n",
    "\n",
    "95%-й доверительный интервал для истинного значения Х: $\\left[6.268;6.912\\right]$  \n",
    "\n",
    "---"
   ]
  },
  {
   "cell_type": "markdown",
   "id": "1cbb7587",
   "metadata": {},
   "source": [
    "**3. Утверждается, что шарики для подшипников, изготовленные автоматическим станком, имеют средний диаметр 17 мм. Используя односторонний критерий с $\\alpha=0.05$ проверить эту гипотезу, если в выборке из $n=100$ шариков средний диаметр оказался равным 17.5 мм, а дисперсия известна и равна 4 кв.мм.**  "
   ]
  },
  {
   "cell_type": "markdown",
   "id": "b23c0f2f",
   "metadata": {},
   "source": [
    "Сформулируем нулевую гипотезу: \n",
    "\n",
    "\n",
    "$H0: \\mu=\\mu_0=17$, где $\\mu$ и $\\mu_0$ средние выборки и генеральной совокупности и выборки, соответственно.  \n",
    "\n",
    "Альтернативная гипотеза:  \n",
    "\n",
    "$H1: \\mu>\\mu_0$  \n",
    "\n",
    "Поскольку нам известны и среднее и дисперсия генеральной совокупности, то для проверки гипотезы будем использовать \n",
    "$z$-критерий.  \n",
    "\n",
    "$z_н=\\frac{\\bar X-\\mu_0}{\\sigma/\\sqrt n}$, где  \n",
    "\n",
    "$\\bar X=\\mu=17.5$ среднее по выборке,  \n",
    "\n",
    "$\\sigma=\\sqrt 4=2$ среднее квадратическое отклонение генеральной совокупности,  \n",
    "\n",
    "$n=100$ размер выборки.  "
   ]
  },
  {
   "cell_type": "code",
   "execution_count": 18,
   "id": "a85c6c87",
   "metadata": {},
   "outputs": [
    {
     "name": "stdout",
     "output_type": "stream",
     "text": [
      "Наблюдаемое значение z-критерия:  2.5\n"
     ]
    }
   ],
   "source": [
    "z = (17.5-17)/0.2\n",
    "print(f'Наблюдаемое значение z-критерия: {z: .1f}')"
   ]
  },
  {
   "cell_type": "code",
   "execution_count": 19,
   "id": "b5cb0d63",
   "metadata": {},
   "outputs": [
    {
     "name": "stdout",
     "output_type": "stream",
     "text": [
      "Табличное значение z-критерия:  1.6449\n"
     ]
    }
   ],
   "source": [
    "zt = stats.norm.ppf(0.95)\n",
    "print(f'Табличное значение z-критерия: {zt: .4f}')"
   ]
  },
  {
   "cell_type": "markdown",
   "id": "39300810",
   "metadata": {},
   "source": [
    "Поскольку $z_н>z_t$, **отвергаем** нулевую гипотезу на уровне значимости $\\alpha=0.05$"
   ]
  },
  {
   "cell_type": "markdown",
   "id": "ab066936",
   "metadata": {},
   "source": [
    "---  \n",
    "\n",
    "#### Ответ:  \n",
    "\n",
    "Отвергаем нулевую гипотезу $H_0: \\mu_0=17$ на уровне значимости $\\alpha=0.05$  \n",
    "\n",
    "---"
   ]
  }
 ],
 "metadata": {
  "kernelspec": {
   "display_name": "Python 3 (ipykernel)",
   "language": "python",
   "name": "python3"
  },
  "language_info": {
   "codemirror_mode": {
    "name": "ipython",
    "version": 3
   },
   "file_extension": ".py",
   "mimetype": "text/x-python",
   "name": "python",
   "nbconvert_exporter": "python",
   "pygments_lexer": "ipython3",
   "version": "3.9.12"
  }
 },
 "nbformat": 4,
 "nbformat_minor": 5
}
